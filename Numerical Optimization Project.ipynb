{
 "cells": [
  {
   "cell_type": "code",
   "execution_count": 66,
   "id": "c2fc076f",
   "metadata": {},
   "outputs": [
    {
     "name": "stdout",
     "output_type": "stream",
     "text": [
      "CG iterations: 2\n",
      "X_cg: [-5.55111512e-17  1.00000000e+00]\n"
     ]
    }
   ],
   "source": [
    "import numpy as np\n",
    "import matplotlib.pyplot as plt\n",
    "\n",
    "def conjugate_gradient(Q, b, x0, tol=1e-6):\n",
    "    x = x0\n",
    "    r = b - Q.dot(x)\n",
    "    d = r\n",
    "    k = 0\n",
    "    while np.linalg.norm(r) > tol:\n",
    "        alpha = np.dot(r, r) / np.dot(d, Q.dot(d))\n",
    "        x = x + alpha * d\n",
    "        r_new = r - alpha * Q.dot(d)\n",
    "        beta = np.dot(r_new, r_new) / np.dot(r, r)\n",
    "        d = r_new + beta * d\n",
    "        r = r_new\n",
    "        k += 1\n",
    "    return x, k\n",
    "\n",
    "\n",
    "# Define a simple quadratic function and its gradient\n",
    "Q = np.array([[2, 1], [1, 2]])\n",
    "b = np.array([1, 2])\n",
    "def f(x):\n",
    "    return 0.5 * x.dot(Q).dot(x) - b.dot(x)\n",
    "def grad(x):\n",
    "    return Q.dot(x) - b\n",
    "\n",
    "# Test the conjugate_gradient function\n",
    "x0 = np.zeros(2)\n",
    "x_cg, k = conjugate_gradient(Q, b, x0, tol=1e-6)\n",
    "print(\"CG iterations:\", k)\n",
    "print(\"X_cg:\", x_cg)"
   ]
  },
  {
   "cell_type": "code",
   "execution_count": 76,
   "id": "c825db24",
   "metadata": {},
   "outputs": [
    {
     "name": "stdout",
     "output_type": "stream",
     "text": [
      "CG iterations: 2\n",
      "CG error: [2.23606798 4.24264069]\n",
      "GD iterations: 1000\n",
      "GD error: 0.2804535772707443\n"
     ]
    },
    {
     "name": "stderr",
     "output_type": "stream",
     "text": [
      "/var/folders/16/t4llrcmx5cv08grm3fmvx85r0000gn/T/ipykernel_37107/3958756482.py:13: VisibleDeprecationWarning: Creating an ndarray from ragged nested sequences (which is a list-or-tuple of lists-or-tuples-or ndarrays with different lengths or shapes) is deprecated. If you meant to do this, you must specify 'dtype=object' when creating the ndarray.\n",
      "  return Q.dot(x) - b\n"
     ]
    },
    {
     "data": {
      "image/png": "[encoded data removed]",
      "text/plain": [
       "<Figure size 640x480 with 1 Axes>"
      ]
     },
     "metadata": {},
     "output_type": "display_data"
    }
   ],
   "source": [
    "Q = np.array([[2, 1], [1, 2]])\n",
    "b = np.array([1, 2])\n",
    "x0 = np.zeros(2)\n",
    "\n",
    "tol = 1e-6\n",
    "max_iter = 1000\n",
    "step_size = 1e-3\n",
    "\n",
    "def f(x):\n",
    "    return 0.5 * x.dot(Q).dot(x) - b.dot(x)\n",
    "\n",
    "def grad(x):\n",
    "    return Q.dot(x) - b\n",
    "\n",
    "# Conjugate gradient\n",
    "x_cg = conjugate_gradient(Q, b, x0, tol=tol)\n",
    "k_cg = np.sum([np.linalg.norm(grad(x_cg)) > tol])\n",
    "print(\"CG iterations:\", k_cg)\n",
    "print(\"CG error:\", np.linalg.norm(grad(x_cg)))\n",
    "\n",
    "# Gradient descent\n",
    "x_gd = x0\n",
    "for k in range(max_iter):\n",
    "    x_gd = x_gd - step_size * grad(x_gd)\n",
    "    if np.linalg.norm(grad(x_gd)) < tol:\n",
    "        break\n",
    "k_gd = k + 1\n",
    "print(\"GD iterations:\", k_gd)\n",
    "print(\"GD error:\", np.linalg.norm(grad(x_gd)))\n",
    "\n",
    "# Plot the convergence rate\n",
    "plt.plot(range(k_cg+1), [np.linalg.norm(grad(conjugate_gradient(Q, b, x0, tol=tol))) for k in range(k_cg+1)], label=\"CG\")\n",
    "plt.plot(range(k_gd), [np.linalg.norm(grad(x)) for x in [x0]+[x0 - step_size * grad(x0) for k in range(k_gd-1)]], label=\"GD\")\n",
    "plt.xlabel(\"Iterations\")\n",
    "plt.ylabel(\"Gradient norm\")\n",
    "plt.yscale(\"log\")\n",
    "plt.legend()\n",
    "plt.show()\n"
   ]
  },
  {
   "cell_type": "code",
   "execution_count": 69,
   "id": "5b9f6b66",
   "metadata": {},
   "outputs": [
    {
     "name": "stdout",
     "output_type": "stream",
     "text": [
      "Conjugate Gradient:\n",
      "x* = [-6. -5.]\n",
      "f(x*) = 90.99999999999997\n",
      "Gradient norm at x* = 14.422205101855955\n",
      "Number of iterations = 2\n"
     ]
    }
   ],
   "source": [
    "def f(x):\n",
    "    return 2*x[0]**2 + 3*x[1]**2 - 4*x[0]*x[1] - 4*x[0] - 6*x[1] + 10\n",
    "\n",
    "def grad_f(x):\n",
    "    return np.array([4*x[0] - 4*x[1] - 4, 6*x[1] - 4*x[0] - 6])\n",
    "\n",
    "Q = np.array([[4, -4], [-4, 6]])\n",
    "b = np.array([-4, -6])\n",
    "x0 = np.array([0, 0])\n",
    "tol = 1e-6\n",
    "def conjugate_gradient(Q, b, x0, tol=1e-6):\n",
    "    x = x0\n",
    "    r = b - Q.dot(x)\n",
    "    d = r\n",
    "    k = 0\n",
    "    while np.linalg.norm(r) > tol:\n",
    "        alpha = np.dot(r, r) / np.dot(d, Q.dot(d))\n",
    "        x = x + alpha * d\n",
    "        r_new = r - alpha * Q.dot(d)\n",
    "        beta = np.dot(r_new, r_new) / np.dot(r, r)\n",
    "        d = r_new + beta * d\n",
    "        r = r_new\n",
    "        k += 1\n",
    "    return x, k\n",
    "\n",
    "x_cg, k_cg = conjugate_gradient(Q, b, x0, tol=tol)\n",
    "print(\"Conjugate Gradient:\")\n",
    "print(\"x* =\", x_cg)\n",
    "print(\"f(x*) =\", f(x_cg))\n",
    "print(\"Gradient norm at x* =\", np.linalg.norm(grad_f(x_cg)))\n",
    "print(\"Number of iterations =\", k_cg)\n"
   ]
  },
  {
   "cell_type": "code",
   "execution_count": 70,
   "id": "aa619216",
   "metadata": {},
   "outputs": [
    {
     "name": "stdout",
     "output_type": "stream",
     "text": [
      "\n",
      "Gradient Descent:\n",
      "x* = [5.99999914 4.99999933]\n",
      "f(x*) = -16.99999999999948\n",
      "Gradient norm at x* = 9.54854277010205e-07\n",
      "Number of iterations = 172\n"
     ]
    }
   ],
   "source": [
    "step_size = 0.1\n",
    "max_iter = 1000\n",
    "\n",
    "x_gd = x0\n",
    "for k in range(max_iter):\n",
    "    x_gd = x_gd - step_size * grad_f(x_gd)\n",
    "    if np.linalg.norm(grad_f(x_gd)) < tol:\n",
    "        break\n",
    "k_gd = k + 1\n",
    "\n",
    "print(\"\\nGradient Descent:\")\n",
    "print(\"x* =\", x_gd)\n",
    "print(\"f(x*) =\", f(x_gd))\n",
    "print(\"Gradient norm at x* =\", np.linalg.norm(grad_f(x_gd)))\n",
    "print(\"Number of iterations =\", k_gd)"
   ]
  },
  {
   "cell_type": "code",
   "execution_count": 71,
   "id": "179915fe",
   "metadata": {},
   "outputs": [
    {
     "name": "stderr",
     "output_type": "stream",
     "text": [
      "/var/folders/16/t4llrcmx5cv08grm3fmvx85r0000gn/T/ipykernel_37107/3045211789.py:13: VisibleDeprecationWarning: Creating an ndarray from ragged nested sequences (which is a list-or-tuple of lists-or-tuples-or ndarrays with different lengths or shapes) is deprecated. If you meant to do this, you must specify 'dtype=object' when creating the ndarray.\n",
      "  return Q.dot(x) - b\n"
     ]
    },
    {
     "data": {
      "image/png": "[encoded data removed]",
      "text/plain": [
       "<Figure size 640x480 with 1 Axes>"
      ]
     },
     "metadata": {},
     "output_type": "display_data"
    }
   ],
   "source": [
    "plt.plot(range(k_cg+1), [np.linalg.norm(grad(conjugate_gradient(Q, b, x0, tol=tol))) for k in range(k_cg+1)], label=\"CG\")\n",
    "plt.plot(range(k_gd), [np.linalg.norm(grad(x)) for x in [x0]+[x0 - step_size * grad(x0) for k in range(k_gd-1)]], label=\"GD\")\n",
    "plt.xlabel(\"Iterations\")\n",
    "plt.ylabel(\"Gradient norm\")\n",
    "plt.yscale(\"log\")\n",
    "plt.legend()\n",
    "plt.show()"
   ]
  },
  {
   "cell_type": "code",
   "execution_count": 72,
   "id": "1e5299aa",
   "metadata": {
    "scrolled": true
   },
   "outputs": [
    {
     "name": "stdout",
     "output_type": "stream",
     "text": [
      "Conjugate Gradient:\n",
      "x* = [ 5.55111512e-17 -1.00000000e+00]\n",
      "f(x*) = 3.0\n",
      "Gradient norm at x* = 4.47213595499958\n",
      "Number of iterations: 2\n"
     ]
    }
   ],
   "source": [
    "# Define the quadratic function and its gradient\n",
    "Q = np.array([[2, 1], [1, 2]])\n",
    "b = np.array([1, 2])\n",
    "x0 = np.zeros(2)\n",
    "\n",
    "def f(x):\n",
    "    return 0.5 * x.dot(Q).dot(x) - b.dot(x)\n",
    "\n",
    "def grad(x):\n",
    "    return Q.dot(x) - b\n",
    "\n",
    "def conjugate_gradient2(Q, b, x0, tol=1e-6):\n",
    "    x = x0\n",
    "    r = b - Q.dot(x)\n",
    "    d = r\n",
    "    k = 0\n",
    "    while np.linalg.norm(r) > tol:\n",
    "        Qd = Q.dot(d)\n",
    "        alpha = r.dot(r) / d.dot(Qd)\n",
    "        x += alpha * d\n",
    "        r_new = r - alpha * Qd\n",
    "        beta = r_new.dot(r_new) / r.dot(r)\n",
    "        d = r_new + beta * d\n",
    "        r = r_new\n",
    "        k += 1\n",
    "    return x, k\n",
    "\n",
    "# Test the conjugate gradient method\n",
    "tol = 1e-6\n",
    "x_cg, k_cg = conjugate_gradient2(Q, grad(x0), x0, tol=tol)\n",
    "print(\"Conjugate Gradient:\")\n",
    "print(\"x* =\", x_cg)\n",
    "print(\"f(x*) =\", f(x_cg))\n",
    "print(\"Gradient norm at x* =\", np.linalg.norm(grad(x_cg)))\n",
    "print(\"Number of iterations:\", k_cg)"
   ]
  },
  {
   "cell_type": "code",
   "execution_count": 73,
   "id": "418226e0",
   "metadata": {},
   "outputs": [
    {
     "name": "stdout",
     "output_type": "stream",
     "text": [
      "\n",
      "Gradient Descent:\n",
      "x* = [5.99999916 4.99999934]\n",
      "f(x*) = 74.99997725020566\n",
      "Gradient norm at x* = 21.2602884327092\n",
      "Number of iterations = 173\n"
     ]
    }
   ],
   "source": [
    "step_size = 0.1\n",
    "max_iter = 1000\n",
    "\n",
    "x_gd = x0\n",
    "for k in range(max_iter):\n",
    "    x_gd = x_gd - step_size * grad_f(x_gd)\n",
    "    if np.linalg.norm(grad_f(x_gd)) < tol:\n",
    "        break\n",
    "k_gd = k + 1\n",
    "\n",
    "print(\"\\nGradient Descent:\")\n",
    "print(\"x* =\", x_gd)\n",
    "print(\"f(x*) =\", f(x_gd))\n",
    "print(\"Gradient norm at x* =\", np.linalg.norm(grad(x_gd)))\n",
    "print(\"Number of iterations =\", k_gd)"
   ]
  },
  {
   "cell_type": "code",
   "execution_count": 74,
   "id": "c57f8882",
   "metadata": {},
   "outputs": [
    {
     "name": "stderr",
     "output_type": "stream",
     "text": [
      "/var/folders/16/t4llrcmx5cv08grm3fmvx85r0000gn/T/ipykernel_37107/1463443881.py:10: VisibleDeprecationWarning: Creating an ndarray from ragged nested sequences (which is a list-or-tuple of lists-or-tuples-or ndarrays with different lengths or shapes) is deprecated. If you meant to do this, you must specify 'dtype=object' when creating the ndarray.\n",
      "  return Q.dot(x) - b\n"
     ]
    },
    {
     "data": {
      "image/png": "[encoded data removed]",
      "text/plain": [
       "<Figure size 640x480 with 1 Axes>"
      ]
     },
     "metadata": {},
     "output_type": "display_data"
    }
   ],
   "source": [
    "plt.plot(range(k_cg+1), [np.linalg.norm(grad(conjugate_gradient(Q, b, x0, tol=tol))) for k in range(k_cg+1)], label=\"CG\")\n",
    "plt.plot(range(k_gd), [np.linalg.norm(grad(x)) for x in [x0]+[x0 - step_size * grad(x0) for k in range(k_gd-1)]], label=\"GD\")\n",
    "plt.xlabel(\"Iterations\")\n",
    "plt.ylabel(\"Gradient norm\")\n",
    "plt.yscale(\"log\")\n",
    "plt.legend()\n",
    "plt.show()"
   ]
  },
  {
   "cell_type": "code",
   "execution_count": null,
   "id": "7cc0a45a",
   "metadata": {},
   "outputs": [],
   "source": []
  }
 ],
 "metadata": {
  "kernelspec": {
   "display_name": "Python 3 (ipykernel)",
   "language": "python",
   "name": "python3"
  },
  "language_info": {
   "codemirror_mode": {
    "name": "ipython",
    "version": 3
   },
   "file_extension": ".py",
   "mimetype": "text/x-python",
   "name": "python",
   "nbconvert_exporter": "python",
   "pygments_lexer": "ipython3",
   "version": "3.9.6"
  }
 },
 "nbformat": 4,
 "nbformat_minor": 5
}
